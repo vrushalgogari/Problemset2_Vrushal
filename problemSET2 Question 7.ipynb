{
 "cells": [
  {
   "cell_type": "code",
   "execution_count": 6,
   "id": "67f7107e",
   "metadata": {},
   "outputs": [],
   "source": [
    "from html.parser import HTMLParser    \n",
    "from urllib.request import urlopen\n",
    "from urllib.parse import urljoin\n",
    "\n",
    "class collector(HTMLParser):\n",
    "    \n",
    "    def __init__(self, url):\n",
    "        \n",
    "        HTMLParser.__init__(self)\n",
    "        self.url = url\n",
    "        self.links = []\n",
    "        \n",
    "    def append(self):\n",
    "        return self.links\n",
    "    \n",
    "    def handle_starttag(self, url_tag, attributes):\n",
    "        for i in attributes:\n",
    "            mylinks = urljoin(self.url, a[1])\n",
    "            if mylinks[:4] == 'http':\n",
    "                self.url_links.append(mylinks)\n",
    "                i = 0\n",
    "def webdir(url, depth, i):\n",
    "    \n",
    "    depth = depth - 1\n",
    "    print(i*'  ', url)\n",
    "    \n",
    "    objective = urlopen(url).read().decode()\n",
    "    collection = urlcollector(url)\n",
    "    collection.feed(objective)\n",
    "    urls = collection.append()\n",
    "    \n",
    "    links = urls\n",
    "    i = i + 4\n",
    "    \n",
    "    for link in links:\n",
    "        if depth < 0 or i < 0:\n",
    "            return 1\n",
    "        else:\n",
    "            webdir(link, depth, i)\n",
    "    \n"
   ]
  },
  {
   "cell_type": "code",
   "execution_count": 7,
   "id": "9442866c",
   "metadata": {},
   "outputs": [
    {
     "name": "stdout",
     "output_type": "stream",
     "text": [
      " http://reed.cs.depaul.edu/lperkovic/test1.html\n"
     ]
    },
    {
     "ename": "NameError",
     "evalue": "name 'urlcollector' is not defined",
     "output_type": "error",
     "traceback": [
      "\u001b[1;31m---------------------------------------------------------------------------\u001b[0m",
      "\u001b[1;31mNameError\u001b[0m                                 Traceback (most recent call last)",
      "Input \u001b[1;32mIn [7]\u001b[0m, in \u001b[0;36m<cell line: 1>\u001b[1;34m()\u001b[0m\n\u001b[1;32m----> 1\u001b[0m \u001b[43mwebdir\u001b[49m\u001b[43m(\u001b[49m\u001b[38;5;124;43m'\u001b[39;49m\u001b[38;5;124;43mhttp://reed.cs.depaul.edu/lperkovic/test1.html\u001b[39;49m\u001b[38;5;124;43m'\u001b[39;49m\u001b[43m,\u001b[49m\u001b[43m \u001b[49m\u001b[38;5;241;43m2\u001b[39;49m\u001b[43m,\u001b[49m\u001b[43m \u001b[49m\u001b[38;5;241;43m0\u001b[39;49m\u001b[43m)\u001b[49m\n",
      "Input \u001b[1;32mIn [6]\u001b[0m, in \u001b[0;36mwebdir\u001b[1;34m(url, depth, i)\u001b[0m\n\u001b[0;32m     25\u001b[0m \u001b[38;5;28mprint\u001b[39m(i\u001b[38;5;241m*\u001b[39m\u001b[38;5;124m'\u001b[39m\u001b[38;5;124m  \u001b[39m\u001b[38;5;124m'\u001b[39m, url)\n\u001b[0;32m     27\u001b[0m objective \u001b[38;5;241m=\u001b[39m urlopen(url)\u001b[38;5;241m.\u001b[39mread()\u001b[38;5;241m.\u001b[39mdecode()\n\u001b[1;32m---> 28\u001b[0m collection \u001b[38;5;241m=\u001b[39m \u001b[43murlcollector\u001b[49m(url)\n\u001b[0;32m     29\u001b[0m collection\u001b[38;5;241m.\u001b[39mfeed(objective)\n\u001b[0;32m     30\u001b[0m urls \u001b[38;5;241m=\u001b[39m collection\u001b[38;5;241m.\u001b[39mappend()\n",
      "\u001b[1;31mNameError\u001b[0m: name 'urlcollector' is not defined"
     ]
    }
   ],
   "source": [
    "webdir('http://reed.cs.depaul.edu/lperkovic/test1.html', 2, 0)"
   ]
  },
  {
   "cell_type": "code",
   "execution_count": null,
   "id": "8af2621a",
   "metadata": {},
   "outputs": [],
   "source": []
  }
 ],
 "metadata": {
  "kernelspec": {
   "display_name": "Python 3 (ipykernel)",
   "language": "python",
   "name": "python3"
  },
  "language_info": {
   "codemirror_mode": {
    "name": "ipython",
    "version": 3
   },
   "file_extension": ".py",
   "mimetype": "text/x-python",
   "name": "python",
   "nbconvert_exporter": "python",
   "pygments_lexer": "ipython3",
   "version": "3.9.12"
  }
 },
 "nbformat": 4,
 "nbformat_minor": 5
}
