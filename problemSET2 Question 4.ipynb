{
 "cells": [
  {
   "cell_type": "code",
   "execution_count": 1,
   "id": "5b6aeebb",
   "metadata": {},
   "outputs": [],
   "source": [
    "def collatz(a):\n",
    "    if a != 1:\n",
    "        if a%2!=0:\n",
    "            print(int(a))\n",
    "            collatz(3*a+1)\n",
    "            \n",
    "        else:\n",
    "            print(int(a))\n",
    "            collatz(a/2)\n",
    "        \n",
    "    else:\n",
    "        print(int(a));"
   ]
  },
  {
   "cell_type": "code",
   "execution_count": 2,
   "id": "42eeef39",
   "metadata": {},
   "outputs": [
    {
     "name": "stdout",
     "output_type": "stream",
     "text": [
      "1\n"
     ]
    }
   ],
   "source": [
    "collatz(1)"
   ]
  },
  {
   "cell_type": "code",
   "execution_count": 3,
   "id": "ab205b60",
   "metadata": {},
   "outputs": [
    {
     "name": "stdout",
     "output_type": "stream",
     "text": [
      "10\n",
      "5\n",
      "16\n",
      "8\n",
      "4\n",
      "2\n",
      "1\n"
     ]
    }
   ],
   "source": [
    "collatz(10)"
   ]
  },
  {
   "cell_type": "code",
   "execution_count": null,
   "id": "570950fa",
   "metadata": {},
   "outputs": [],
   "source": []
  }
 ],
 "metadata": {
  "kernelspec": {
   "display_name": "Python 3 (ipykernel)",
   "language": "python",
   "name": "python3"
  },
  "language_info": {
   "codemirror_mode": {
    "name": "ipython",
    "version": 3
   },
   "file_extension": ".py",
   "mimetype": "text/x-python",
   "name": "python",
   "nbconvert_exporter": "python",
   "pygments_lexer": "ipython3",
   "version": "3.9.12"
  }
 },
 "nbformat": 4,
 "nbformat_minor": 5
}
